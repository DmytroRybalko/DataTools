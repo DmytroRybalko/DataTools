{
 "cells": [
  {
   "cell_type": "markdown",
   "id": "b8eddb46",
   "metadata": {},
   "source": [
    "It's a template notebook for reading, stack and clean .csv files"
   ]
  },
  {
   "cell_type": "code",
   "execution_count": 2,
   "id": "7022264d",
   "metadata": {},
   "outputs": [],
   "source": [
    "import pandas as pd\n",
    "import os"
   ]
  },
  {
   "cell_type": "markdown",
   "id": "e7ab9dd6",
   "metadata": {},
   "source": [
    "Define the folder path containing the CSV files and list all CSV files in the directory."
   ]
  },
  {
   "cell_type": "code",
   "execution_count": 3,
   "id": "4d6ac628",
   "metadata": {},
   "outputs": [
    {
     "name": "stdout",
     "output_type": "stream",
     "text": [
      "CSV files found: ['coordinates_ins_gnss_1_4_plots.csv', 'coordinates_ins_gnss_5_6_plots.csv', 'orientation_angles_plot_plots.csv', 'Velocities_dINS_dGNSS_plots.csv']\n"
     ]
    }
   ],
   "source": [
    "# Set the folder path containing the CSV files\n",
    "folder_path = './data/csv'\n",
    "\n",
    "# List all CSV files in the directory\n",
    "csv_files = [f for f in os.listdir(folder_path) if f.endswith('.csv')]\n",
    "print('CSV files found:', csv_files)"
   ]
  },
  {
   "cell_type": "markdown",
   "id": "5f1b6636",
   "metadata": {},
   "source": [
    "Iterate through each CSV file, read it into a DataFrame, and add a column for the file name as 'category'."
   ]
  },
  {
   "cell_type": "code",
   "execution_count": 4,
   "id": "2ed2c40e",
   "metadata": {},
   "outputs": [],
   "source": [
    "# Read each CSV, add 'category' column, and stack into a list\n",
    "df_list = []\n",
    "for file in csv_files:\n",
    "    file_path = os.path.join(folder_path, file)\n",
    "    df = pd.read_csv(file_path, sep=';')\n",
    "    df['category'] = os.path.splitext(file)[0]  # Use file name without extension\n",
    "    df_list.append(df)"
   ]
  },
  {
   "cell_type": "markdown",
   "id": "4a409e91",
   "metadata": {},
   "source": [
    "Explore random file"
   ]
  },
  {
   "cell_type": "code",
   "execution_count": 5,
   "id": "02078b00",
   "metadata": {},
   "outputs": [
    {
     "data": {
      "text/html": [
       "<div>\n",
       "<style scoped>\n",
       "    .dataframe tbody tr th:only-of-type {\n",
       "        vertical-align: middle;\n",
       "    }\n",
       "\n",
       "    .dataframe tbody tr th {\n",
       "        vertical-align: top;\n",
       "    }\n",
       "\n",
       "    .dataframe thead th {\n",
       "        text-align: right;\n",
       "    }\n",
       "</style>\n",
       "<table border=\"1\" class=\"dataframe\">\n",
       "  <thead>\n",
       "    <tr style=\"text-align: right;\">\n",
       "      <th></th>\n",
       "      <th>variable</th>\n",
       "      <th>head</th>\n",
       "      <th>category</th>\n",
       "    </tr>\n",
       "  </thead>\n",
       "  <tbody>\n",
       "    <tr>\n",
       "      <th>0</th>\n",
       "      <td>t</td>\n",
       "      <td>Difference between INS and GNSS coordinates</td>\n",
       "      <td>coordinates_ins_gnss_5_6_plots</td>\n",
       "    </tr>\n",
       "    <tr>\n",
       "      <th>1</th>\n",
       "      <td>BESTPOS_log_index</td>\n",
       "      <td>Difference between INS and GNSS coordinates</td>\n",
       "      <td>coordinates_ins_gnss_5_6_plots</td>\n",
       "    </tr>\n",
       "    <tr>\n",
       "      <th>2</th>\n",
       "      <td>dFi_od_m_mass</td>\n",
       "      <td>Difference between INS and GNSS coordinates</td>\n",
       "      <td>coordinates_ins_gnss_5_6_plots</td>\n",
       "    </tr>\n",
       "    <tr>\n",
       "      <th>3</th>\n",
       "      <td>dFi_gps_m</td>\n",
       "      <td>Difference between INS and GNSS coordinates</td>\n",
       "      <td>coordinates_ins_gnss_5_6_plots</td>\n",
       "    </tr>\n",
       "    <tr>\n",
       "      <th>4</th>\n",
       "      <td>dFi_ext_m</td>\n",
       "      <td>Difference between INS and GNSS coordinates</td>\n",
       "      <td>coordinates_ins_gnss_5_6_plots</td>\n",
       "    </tr>\n",
       "  </tbody>\n",
       "</table>\n",
       "</div>"
      ],
      "text/plain": [
       "            variable                                         head  \\\n",
       "0                  t  Difference between INS and GNSS coordinates   \n",
       "1  BESTPOS_log_index  Difference between INS and GNSS coordinates   \n",
       "2      dFi_od_m_mass  Difference between INS and GNSS coordinates   \n",
       "3          dFi_gps_m  Difference between INS and GNSS coordinates   \n",
       "4          dFi_ext_m  Difference between INS and GNSS coordinates   \n",
       "\n",
       "                         category  \n",
       "0  coordinates_ins_gnss_5_6_plots  \n",
       "1  coordinates_ins_gnss_5_6_plots  \n",
       "2  coordinates_ins_gnss_5_6_plots  \n",
       "3  coordinates_ins_gnss_5_6_plots  \n",
       "4  coordinates_ins_gnss_5_6_plots  "
      ]
     },
     "execution_count": 5,
     "metadata": {},
     "output_type": "execute_result"
    }
   ],
   "source": [
    "df_list[1].head()  # Display the first few rows of the first DataFrame"
   ]
  },
  {
   "cell_type": "markdown",
   "id": "7a314c97",
   "metadata": {},
   "source": [
    "Rename the columns: 'variable' to 'name', 'head' to 'subcategory', and ensure 'category' is set from the file name. Concatenate all DataFrames into one."
   ]
  },
  {
   "cell_type": "code",
   "execution_count": 7,
   "id": "88ffd2f5",
   "metadata": {},
   "outputs": [
    {
     "data": {
      "text/html": [
       "<div>\n",
       "<style scoped>\n",
       "    .dataframe tbody tr th:only-of-type {\n",
       "        vertical-align: middle;\n",
       "    }\n",
       "\n",
       "    .dataframe tbody tr th {\n",
       "        vertical-align: top;\n",
       "    }\n",
       "\n",
       "    .dataframe thead th {\n",
       "        text-align: right;\n",
       "    }\n",
       "</style>\n",
       "<table border=\"1\" class=\"dataframe\">\n",
       "  <thead>\n",
       "    <tr style=\"text-align: right;\">\n",
       "      <th></th>\n",
       "      <th>name</th>\n",
       "      <th>subcategory</th>\n",
       "      <th>category</th>\n",
       "    </tr>\n",
       "  </thead>\n",
       "  <tbody>\n",
       "    <tr>\n",
       "      <th>0</th>\n",
       "      <td>t</td>\n",
       "      <td>Plots of latitude, longitude (in degrees), alt...</td>\n",
       "      <td>coordinates_ins_gnss_1_4_plots</td>\n",
       "    </tr>\n",
       "    <tr>\n",
       "      <th>1</th>\n",
       "      <td>hor_bit</td>\n",
       "      <td>Plots of latitude, longitude (in degrees), alt...</td>\n",
       "      <td>coordinates_ins_gnss_1_4_plots</td>\n",
       "    </tr>\n",
       "    <tr>\n",
       "      <th>2</th>\n",
       "      <td>Latitude_ext2imu</td>\n",
       "      <td>Plots of latitude, longitude (in degrees), alt...</td>\n",
       "      <td>coordinates_ins_gnss_1_4_plots</td>\n",
       "    </tr>\n",
       "    <tr>\n",
       "      <th>3</th>\n",
       "      <td>DAGR_new_data</td>\n",
       "      <td>Plots of latitude, longitude (in degrees), alt...</td>\n",
       "      <td>coordinates_ins_gnss_1_4_plots</td>\n",
       "    </tr>\n",
       "    <tr>\n",
       "      <th>4</th>\n",
       "      <td>DAGR_Latitude</td>\n",
       "      <td>Plots of latitude, longitude (in degrees), alt...</td>\n",
       "      <td>coordinates_ins_gnss_1_4_plots</td>\n",
       "    </tr>\n",
       "    <tr>\n",
       "      <th>5</th>\n",
       "      <td>tt</td>\n",
       "      <td>Plots of latitude, longitude (in degrees), alt...</td>\n",
       "      <td>coordinates_ins_gnss_1_4_plots</td>\n",
       "    </tr>\n",
       "    <tr>\n",
       "      <th>6</th>\n",
       "      <td>Fi_od2imu_mass</td>\n",
       "      <td>Plots of latitude, longitude (in degrees), alt...</td>\n",
       "      <td>coordinates_ins_gnss_1_4_plots</td>\n",
       "    </tr>\n",
       "    <tr>\n",
       "      <th>7</th>\n",
       "      <td>r2dt</td>\n",
       "      <td>Plots of latitude, longitude (in degrees), alt...</td>\n",
       "      <td>coordinates_ins_gnss_1_4_plots</td>\n",
       "    </tr>\n",
       "    <tr>\n",
       "      <th>8</th>\n",
       "      <td>RANGE_log_index</td>\n",
       "      <td>Plots of latitude, longitude (in degrees), alt...</td>\n",
       "      <td>coordinates_ins_gnss_1_4_plots</td>\n",
       "    </tr>\n",
       "    <tr>\n",
       "      <th>9</th>\n",
       "      <td>Fi_r2pv</td>\n",
       "      <td>Plots of latitude, longitude (in degrees), alt...</td>\n",
       "      <td>coordinates_ins_gnss_1_4_plots</td>\n",
       "    </tr>\n",
       "  </tbody>\n",
       "</table>\n",
       "</div>"
      ],
      "text/plain": [
       "               name                                        subcategory  \\\n",
       "0                 t  Plots of latitude, longitude (in degrees), alt...   \n",
       "1           hor_bit  Plots of latitude, longitude (in degrees), alt...   \n",
       "2  Latitude_ext2imu  Plots of latitude, longitude (in degrees), alt...   \n",
       "3     DAGR_new_data  Plots of latitude, longitude (in degrees), alt...   \n",
       "4     DAGR_Latitude  Plots of latitude, longitude (in degrees), alt...   \n",
       "5                tt  Plots of latitude, longitude (in degrees), alt...   \n",
       "6    Fi_od2imu_mass  Plots of latitude, longitude (in degrees), alt...   \n",
       "7              r2dt  Plots of latitude, longitude (in degrees), alt...   \n",
       "8   RANGE_log_index  Plots of latitude, longitude (in degrees), alt...   \n",
       "9           Fi_r2pv  Plots of latitude, longitude (in degrees), alt...   \n",
       "\n",
       "                         category  \n",
       "0  coordinates_ins_gnss_1_4_plots  \n",
       "1  coordinates_ins_gnss_1_4_plots  \n",
       "2  coordinates_ins_gnss_1_4_plots  \n",
       "3  coordinates_ins_gnss_1_4_plots  \n",
       "4  coordinates_ins_gnss_1_4_plots  \n",
       "5  coordinates_ins_gnss_1_4_plots  \n",
       "6  coordinates_ins_gnss_1_4_plots  \n",
       "7  coordinates_ins_gnss_1_4_plots  \n",
       "8  coordinates_ins_gnss_1_4_plots  \n",
       "9  coordinates_ins_gnss_1_4_plots  "
      ]
     },
     "execution_count": 7,
     "metadata": {},
     "output_type": "execute_result"
    }
   ],
   "source": [
    "# Concatenate all DataFrames and rename columns\n",
    "if df_list:\n",
    "    df = pd.concat(df_list, ignore_index=True)\n",
    "    df = df.rename(columns={'variable': 'name', 'head': 'subcategory'})\n",
    "    df = df[['name', 'subcategory', 'category']]\n",
    "else:\n",
    "    df = pd.DataFrame(columns=['name', 'subcategory', 'category'])\n",
    "\n",
    "df.head(10)"
   ]
  },
  {
   "cell_type": "code",
   "execution_count": 8,
   "id": "1898add9",
   "metadata": {},
   "outputs": [
    {
     "data": {
      "text/plain": [
       "(298, 3)"
      ]
     },
     "execution_count": 8,
     "metadata": {},
     "output_type": "execute_result"
    }
   ],
   "source": [
    "df.shape"
   ]
  },
  {
   "cell_type": "code",
   "execution_count": 9,
   "id": "10c89083",
   "metadata": {},
   "outputs": [],
   "source": [
    "# Remove duplicates based on 'name' column\n",
    "df.drop_duplicates(subset='name', inplace=True)"
   ]
  },
  {
   "cell_type": "code",
   "execution_count": 10,
   "id": "4684ce20",
   "metadata": {},
   "outputs": [
    {
     "data": {
      "text/plain": [
       "(194, 3)"
      ]
     },
     "execution_count": 10,
     "metadata": {},
     "output_type": "execute_result"
    }
   ],
   "source": [
    "df.shape"
   ]
  },
  {
   "cell_type": "markdown",
   "id": "324ad55a",
   "metadata": {},
   "source": [
    "Clean subcategory and category names"
   ]
  },
  {
   "cell_type": "code",
   "execution_count": 11,
   "id": "2fb56fab",
   "metadata": {},
   "outputs": [],
   "source": [
    "# Replace _plot part from category column\n",
    "df['category'] = df['category'].str.replace('_plot', '', regex=False)"
   ]
  },
  {
   "cell_type": "code",
   "execution_count": 12,
   "id": "26a4461b",
   "metadata": {},
   "outputs": [],
   "source": [
    "# Replace _1_4s and _5_6s parts from category column\n",
    "df.loc[df['category'].isin(['coordinates_ins_gnss_1_4s', 'coordinates_ins_gnss_5_6s']), 'category'] = 'coordinates_ins_gnss'"
   ]
  },
  {
   "cell_type": "code",
   "execution_count": 13,
   "id": "34488b26",
   "metadata": {},
   "outputs": [
    {
     "data": {
      "text/html": [
       "<div>\n",
       "<style scoped>\n",
       "    .dataframe tbody tr th:only-of-type {\n",
       "        vertical-align: middle;\n",
       "    }\n",
       "\n",
       "    .dataframe tbody tr th {\n",
       "        vertical-align: top;\n",
       "    }\n",
       "\n",
       "    .dataframe thead th {\n",
       "        text-align: right;\n",
       "    }\n",
       "</style>\n",
       "<table border=\"1\" class=\"dataframe\">\n",
       "  <thead>\n",
       "    <tr style=\"text-align: right;\">\n",
       "      <th></th>\n",
       "      <th>name</th>\n",
       "      <th>subcategory</th>\n",
       "      <th>category</th>\n",
       "    </tr>\n",
       "  </thead>\n",
       "  <tbody>\n",
       "    <tr>\n",
       "      <th>0</th>\n",
       "      <td>t</td>\n",
       "      <td>Plots of latitude, longitude (in degrees), alt...</td>\n",
       "      <td>coordinates_ins_gnss</td>\n",
       "    </tr>\n",
       "    <tr>\n",
       "      <th>1</th>\n",
       "      <td>hor_bit</td>\n",
       "      <td>Plots of latitude, longitude (in degrees), alt...</td>\n",
       "      <td>coordinates_ins_gnss</td>\n",
       "    </tr>\n",
       "    <tr>\n",
       "      <th>2</th>\n",
       "      <td>Latitude_ext2imu</td>\n",
       "      <td>Plots of latitude, longitude (in degrees), alt...</td>\n",
       "      <td>coordinates_ins_gnss</td>\n",
       "    </tr>\n",
       "    <tr>\n",
       "      <th>3</th>\n",
       "      <td>DAGR_new_data</td>\n",
       "      <td>Plots of latitude, longitude (in degrees), alt...</td>\n",
       "      <td>coordinates_ins_gnss</td>\n",
       "    </tr>\n",
       "    <tr>\n",
       "      <th>4</th>\n",
       "      <td>DAGR_Latitude</td>\n",
       "      <td>Plots of latitude, longitude (in degrees), alt...</td>\n",
       "      <td>coordinates_ins_gnss</td>\n",
       "    </tr>\n",
       "    <tr>\n",
       "      <th>...</th>\n",
       "      <td>...</td>\n",
       "      <td>...</td>\n",
       "      <td>...</td>\n",
       "    </tr>\n",
       "    <tr>\n",
       "      <th>166</th>\n",
       "      <td>Vh_S_pv</td>\n",
       "      <td>Difference between INS and GNSS coordinates</td>\n",
       "      <td>coordinates_ins_gnss</td>\n",
       "    </tr>\n",
       "    <tr>\n",
       "      <th>167</th>\n",
       "      <td>Vh_S_mass</td>\n",
       "      <td>Difference between INS and GNSS coordinates</td>\n",
       "      <td>coordinates_ins_gnss</td>\n",
       "    </tr>\n",
       "    <tr>\n",
       "      <th>168</th>\n",
       "      <td>pos_source_mass</td>\n",
       "      <td>Difference between INS and GNSS coordinates</td>\n",
       "      <td>coordinates_ins_gnss</td>\n",
       "    </tr>\n",
       "    <tr>\n",
       "      <th>169</th>\n",
       "      <td>h_source_mass</td>\n",
       "      <td>Difference between INS and GNSS coordinates</td>\n",
       "      <td>coordinates_ins_gnss</td>\n",
       "    </tr>\n",
       "    <tr>\n",
       "      <th>170</th>\n",
       "      <td>h_sourse_mass</td>\n",
       "      <td>Difference between INS and GNSS coordinates</td>\n",
       "      <td>coordinates_ins_gnss</td>\n",
       "    </tr>\n",
       "  </tbody>\n",
       "</table>\n",
       "<p>114 rows × 3 columns</p>\n",
       "</div>"
      ],
      "text/plain": [
       "                 name                                        subcategory  \\\n",
       "0                   t  Plots of latitude, longitude (in degrees), alt...   \n",
       "1             hor_bit  Plots of latitude, longitude (in degrees), alt...   \n",
       "2    Latitude_ext2imu  Plots of latitude, longitude (in degrees), alt...   \n",
       "3       DAGR_new_data  Plots of latitude, longitude (in degrees), alt...   \n",
       "4       DAGR_Latitude  Plots of latitude, longitude (in degrees), alt...   \n",
       "..                ...                                                ...   \n",
       "166           Vh_S_pv        Difference between INS and GNSS coordinates   \n",
       "167         Vh_S_mass        Difference between INS and GNSS coordinates   \n",
       "168   pos_source_mass        Difference between INS and GNSS coordinates   \n",
       "169     h_source_mass        Difference between INS and GNSS coordinates   \n",
       "170     h_sourse_mass        Difference between INS and GNSS coordinates   \n",
       "\n",
       "                 category  \n",
       "0    coordinates_ins_gnss  \n",
       "1    coordinates_ins_gnss  \n",
       "2    coordinates_ins_gnss  \n",
       "3    coordinates_ins_gnss  \n",
       "4    coordinates_ins_gnss  \n",
       "..                    ...  \n",
       "166  coordinates_ins_gnss  \n",
       "167  coordinates_ins_gnss  \n",
       "168  coordinates_ins_gnss  \n",
       "169  coordinates_ins_gnss  \n",
       "170  coordinates_ins_gnss  \n",
       "\n",
       "[114 rows x 3 columns]"
      ]
     },
     "execution_count": 13,
     "metadata": {},
     "output_type": "execute_result"
    }
   ],
   "source": [
    "df.query('category == \"coordinates_ins_gnss\"')"
   ]
  },
  {
   "cell_type": "code",
   "execution_count": 15,
   "id": "ca6922b6",
   "metadata": {},
   "outputs": [
    {
     "data": {
      "text/plain": [
       "array(['coordinates_ins_gnss', 'orientation_angless',\n",
       "       'Velocities_dINS_dGNSSs'], dtype=object)"
      ]
     },
     "execution_count": 15,
     "metadata": {},
     "output_type": "execute_result"
    }
   ],
   "source": [
    "df['category'].unique()"
   ]
  },
  {
   "cell_type": "code",
   "execution_count": 16,
   "id": "1cd42483",
   "metadata": {},
   "outputs": [
    {
     "data": {
      "text/plain": [
       "array(['Plots of latitude, longitude (in degrees), altitude',\n",
       "       'Plots of change of latitude, longitude (in meters), altitude',\n",
       "       'Plots of latitude, longitude, altitude inaccuracies',\n",
       "       'Difference between INS and GNSS coordinates',\n",
       "       'Orientation angle plots', 'Difference in INS orientation tab',\n",
       "       'Difference in AHRS orientation tab',\n",
       "       'North, east and vertical velocity components plots',\n",
       "       'Plots of inaccuracy of north, east and vertical velocity components',\n",
       "       'Plots of differences between INS velocities and GNSS velocities',\n",
       "       'Velocity source for INS aiding'], dtype=object)"
      ]
     },
     "execution_count": 16,
     "metadata": {},
     "output_type": "execute_result"
    }
   ],
   "source": [
    "df['subcategory'].unique()"
   ]
  },
  {
   "cell_type": "code",
   "execution_count": 17,
   "id": "d770d169",
   "metadata": {},
   "outputs": [
    {
     "data": {
      "text/html": [
       "<div>\n",
       "<style scoped>\n",
       "    .dataframe tbody tr th:only-of-type {\n",
       "        vertical-align: middle;\n",
       "    }\n",
       "\n",
       "    .dataframe tbody tr th {\n",
       "        vertical-align: top;\n",
       "    }\n",
       "\n",
       "    .dataframe thead th {\n",
       "        text-align: right;\n",
       "    }\n",
       "</style>\n",
       "<table border=\"1\" class=\"dataframe\">\n",
       "  <thead>\n",
       "    <tr style=\"text-align: right;\">\n",
       "      <th></th>\n",
       "      <th>name</th>\n",
       "      <th>subcategory</th>\n",
       "      <th>category</th>\n",
       "    </tr>\n",
       "  </thead>\n",
       "  <tbody>\n",
       "    <tr>\n",
       "      <th>0</th>\n",
       "      <td>t</td>\n",
       "      <td>Plots of latitude, longitude (in degrees), alt...</td>\n",
       "      <td>coordinates_ins_gnss</td>\n",
       "    </tr>\n",
       "    <tr>\n",
       "      <th>1</th>\n",
       "      <td>hor_bit</td>\n",
       "      <td>Plots of latitude, longitude (in degrees), alt...</td>\n",
       "      <td>coordinates_ins_gnss</td>\n",
       "    </tr>\n",
       "    <tr>\n",
       "      <th>2</th>\n",
       "      <td>Latitude_ext2imu</td>\n",
       "      <td>Plots of latitude, longitude (in degrees), alt...</td>\n",
       "      <td>coordinates_ins_gnss</td>\n",
       "    </tr>\n",
       "    <tr>\n",
       "      <th>3</th>\n",
       "      <td>DAGR_new_data</td>\n",
       "      <td>Plots of latitude, longitude (in degrees), alt...</td>\n",
       "      <td>coordinates_ins_gnss</td>\n",
       "    </tr>\n",
       "    <tr>\n",
       "      <th>4</th>\n",
       "      <td>DAGR_Latitude</td>\n",
       "      <td>Plots of latitude, longitude (in degrees), alt...</td>\n",
       "      <td>coordinates_ins_gnss</td>\n",
       "    </tr>\n",
       "    <tr>\n",
       "      <th>...</th>\n",
       "      <td>...</td>\n",
       "      <td>...</td>\n",
       "      <td>...</td>\n",
       "    </tr>\n",
       "    <tr>\n",
       "      <th>271</th>\n",
       "      <td>V_gps2pv_SPAN</td>\n",
       "      <td>Plots of differences between INS velocities an...</td>\n",
       "      <td>Velocities_dINS_dGNSSs</td>\n",
       "    </tr>\n",
       "    <tr>\n",
       "      <th>272</th>\n",
       "      <td>V_gps2imu_SPAN</td>\n",
       "      <td>Plots of differences between INS velocities an...</td>\n",
       "      <td>Velocities_dINS_dGNSSs</td>\n",
       "    </tr>\n",
       "    <tr>\n",
       "      <th>295</th>\n",
       "      <td>vel_source_mass</td>\n",
       "      <td>Velocity source for INS aiding</td>\n",
       "      <td>Velocities_dINS_dGNSSs</td>\n",
       "    </tr>\n",
       "    <tr>\n",
       "      <th>296</th>\n",
       "      <td>xl</td>\n",
       "      <td>Velocity source for INS aiding</td>\n",
       "      <td>Velocities_dINS_dGNSSs</td>\n",
       "    </tr>\n",
       "    <tr>\n",
       "      <th>297</th>\n",
       "      <td>Vv_sourse_mass</td>\n",
       "      <td>Velocity source for INS aiding</td>\n",
       "      <td>Velocities_dINS_dGNSSs</td>\n",
       "    </tr>\n",
       "  </tbody>\n",
       "</table>\n",
       "<p>194 rows × 3 columns</p>\n",
       "</div>"
      ],
      "text/plain": [
       "                 name                                        subcategory  \\\n",
       "0                   t  Plots of latitude, longitude (in degrees), alt...   \n",
       "1             hor_bit  Plots of latitude, longitude (in degrees), alt...   \n",
       "2    Latitude_ext2imu  Plots of latitude, longitude (in degrees), alt...   \n",
       "3       DAGR_new_data  Plots of latitude, longitude (in degrees), alt...   \n",
       "4       DAGR_Latitude  Plots of latitude, longitude (in degrees), alt...   \n",
       "..                ...                                                ...   \n",
       "271     V_gps2pv_SPAN  Plots of differences between INS velocities an...   \n",
       "272    V_gps2imu_SPAN  Plots of differences between INS velocities an...   \n",
       "295   vel_source_mass                     Velocity source for INS aiding   \n",
       "296                xl                     Velocity source for INS aiding   \n",
       "297    Vv_sourse_mass                     Velocity source for INS aiding   \n",
       "\n",
       "                   category  \n",
       "0      coordinates_ins_gnss  \n",
       "1      coordinates_ins_gnss  \n",
       "2      coordinates_ins_gnss  \n",
       "3      coordinates_ins_gnss  \n",
       "4      coordinates_ins_gnss  \n",
       "..                      ...  \n",
       "271  Velocities_dINS_dGNSSs  \n",
       "272  Velocities_dINS_dGNSSs  \n",
       "295  Velocities_dINS_dGNSSs  \n",
       "296  Velocities_dINS_dGNSSs  \n",
       "297  Velocities_dINS_dGNSSs  \n",
       "\n",
       "[194 rows x 3 columns]"
      ]
     },
     "execution_count": 17,
     "metadata": {},
     "output_type": "execute_result"
    }
   ],
   "source": [
    "df"
   ]
  },
  {
   "cell_type": "markdown",
   "id": "d1485811",
   "metadata": {},
   "source": [
    "Save result file"
   ]
  },
  {
   "cell_type": "code",
   "execution_count": 18,
   "id": "5b285583",
   "metadata": {},
   "outputs": [],
   "source": [
    "df.to_csv('data/stack_csv.csv', index=False, sep=';')"
   ]
  }
 ],
 "metadata": {
  "kernelspec": {
   "display_name": "Python 3",
   "language": "python",
   "name": "python3"
  },
  "language_info": {
   "codemirror_mode": {
    "name": "ipython",
    "version": 3
   },
   "file_extension": ".py",
   "mimetype": "text/x-python",
   "name": "python",
   "nbconvert_exporter": "python",
   "pygments_lexer": "ipython3",
   "version": "3.13.0rc3"
  }
 },
 "nbformat": 4,
 "nbformat_minor": 5
}
