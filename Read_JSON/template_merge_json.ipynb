{
 "cells": [
  {
   "cell_type": "markdown",
   "id": "b8eddb46",
   "metadata": {},
   "source": [
    "Template file for merging json file applying specific process to clean duplicates"
   ]
  },
  {
   "cell_type": "code",
   "execution_count": 8,
   "id": "7022264d",
   "metadata": {},
   "outputs": [],
   "source": [
    "import pandas as pd\n",
    "import os\n",
    "import copy"
   ]
  },
  {
   "cell_type": "markdown",
   "id": "e7ab9dd6",
   "metadata": {},
   "source": [
    "Define the folder path containing the CSV files and list all CSV files in the directory."
   ]
  },
  {
   "cell_type": "code",
   "execution_count": 3,
   "id": "4d6ac628",
   "metadata": {},
   "outputs": [
    {
     "name": "stdout",
     "output_type": "stream",
     "text": [
      "Files found:\n"
     ]
    },
    {
     "data": {
      "text/plain": [
       "['after_end_calculation_cycle_6.json',\n",
       " 'after_Read_ISON_Data_P_2.json',\n",
       " 'before_clear_Prometheus_data_3.json',\n",
       " 'before_Read_ISON_Data_P_1.json',\n",
       " 'before_simulation_4.json',\n",
       " 'before_start_calculation_cycle_5.json']"
      ]
     },
     "execution_count": 3,
     "metadata": {},
     "output_type": "execute_result"
    }
   ],
   "source": [
    "# Set the folder path containing the CSV files\n",
    "folder_path = './data/json/'\n",
    "\n",
    "# List all CSV files in the directory\n",
    "csv_files = [f for f in os.listdir(folder_path) if (f.endswith('.json') and not f.startswith('variables_'))]\n",
    "print('Files found:')\n",
    "csv_files"
   ]
  },
  {
   "cell_type": "markdown",
   "id": "4ed3bd16",
   "metadata": {},
   "source": [
    "Reorder files in list if it's importance! "
   ]
  },
  {
   "cell_type": "code",
   "execution_count": 5,
   "id": "068f3896",
   "metadata": {},
   "outputs": [
    {
     "data": {
      "text/plain": [
       "['after_end_calculation_cycle_6.json',\n",
       " 'before_start_calculation_cycle_5.json',\n",
       " 'before_simulation_4.json',\n",
       " 'before_clear_Prometheus_data_3.json',\n",
       " 'after_Read_ISON_Data_P_2.json',\n",
       " 'before_Read_ISON_Data_P_1.json']"
      ]
     },
     "execution_count": 5,
     "metadata": {},
     "output_type": "execute_result"
    }
   ],
   "source": [
    "ordered_files = [0] * len(csv_files)\n",
    "for i, f in zip(range(len(csv_files)), csv_files):\n",
    "    ordered_files[(-1)*(int(f[-6]))] = f\n",
    "ordered_files"
   ]
  },
  {
   "cell_type": "markdown",
   "id": "5f1b6636",
   "metadata": {},
   "source": [
    "Iterate through each CSV file, read it into a DataFrame, and add a column for the file name as 'category'."
   ]
  },
  {
   "cell_type": "code",
   "execution_count": 6,
   "id": "2ed2c40e",
   "metadata": {},
   "outputs": [
    {
     "data": {
      "text/plain": [
       "[2021, 1885, 1147, 824, 572, 48]"
      ]
     },
     "execution_count": 6,
     "metadata": {},
     "output_type": "execute_result"
    }
   ],
   "source": [
    "df_list = []\n",
    "for file in ordered_files:\n",
    "    file_path = os.path.join(folder_path, file)\n",
    "    #df = pd.read_csv(file_path, sep=';')\n",
    "    df = pd.read_json(file_path)\n",
    "    df['created_place'] = os.path.splitext(file)[0]  # Use file name without extension\n",
    "    df = df[['name', 'created_place']]\n",
    "    df_list.append(df)\n",
    "\n",
    "# Check size of each DataFrame\n",
    "[x.shape[0] for x in df_list]"
   ]
  },
  {
   "cell_type": "markdown",
   "id": "3acc8f9b",
   "metadata": {},
   "source": [
    "Join files in particular order"
   ]
  },
  {
   "cell_type": "code",
   "execution_count": 9,
   "id": "cd929dca",
   "metadata": {},
   "outputs": [
    {
     "data": {
      "text/html": [
       "<div>\n",
       "<style scoped>\n",
       "    .dataframe tbody tr th:only-of-type {\n",
       "        vertical-align: middle;\n",
       "    }\n",
       "\n",
       "    .dataframe tbody tr th {\n",
       "        vertical-align: top;\n",
       "    }\n",
       "\n",
       "    .dataframe thead th {\n",
       "        text-align: right;\n",
       "    }\n",
       "</style>\n",
       "<table border=\"1\" class=\"dataframe\">\n",
       "  <thead>\n",
       "    <tr style=\"text-align: right;\">\n",
       "      <th></th>\n",
       "      <th>name</th>\n",
       "      <th>created_place</th>\n",
       "    </tr>\n",
       "  </thead>\n",
       "  <tbody>\n",
       "    <tr>\n",
       "      <th>40</th>\n",
       "      <td>pname_SPAN_bin_data</td>\n",
       "      <td>before_Read_ISON_Data_P_1</td>\n",
       "    </tr>\n",
       "    <tr>\n",
       "      <th>41</th>\n",
       "      <td>ppdir</td>\n",
       "      <td>before_Read_ISON_Data_P_1</td>\n",
       "    </tr>\n",
       "    <tr>\n",
       "      <th>42</th>\n",
       "      <td>ppindex</td>\n",
       "      <td>before_Read_ISON_Data_P_1</td>\n",
       "    </tr>\n",
       "    <tr>\n",
       "      <th>43</th>\n",
       "      <td>r2d</td>\n",
       "      <td>before_Read_ISON_Data_P_1</td>\n",
       "    </tr>\n",
       "    <tr>\n",
       "      <th>44</th>\n",
       "      <td>r2m</td>\n",
       "      <td>before_Read_ISON_Data_P_1</td>\n",
       "    </tr>\n",
       "    <tr>\n",
       "      <th>45</th>\n",
       "      <td>ro_gps_aux</td>\n",
       "      <td>before_Read_ISON_Data_P_1</td>\n",
       "    </tr>\n",
       "    <tr>\n",
       "      <th>46</th>\n",
       "      <td>unalignment</td>\n",
       "      <td>before_Read_ISON_Data_P_1</td>\n",
       "    </tr>\n",
       "    <tr>\n",
       "      <th>47</th>\n",
       "      <td>AC1</td>\n",
       "      <td>after_Read_ISON_Data_P_2</td>\n",
       "    </tr>\n",
       "    <tr>\n",
       "      <th>48</th>\n",
       "      <td>AC2</td>\n",
       "      <td>after_Read_ISON_Data_P_2</td>\n",
       "    </tr>\n",
       "    <tr>\n",
       "      <th>49</th>\n",
       "      <td>AC3</td>\n",
       "      <td>after_Read_ISON_Data_P_2</td>\n",
       "    </tr>\n",
       "    <tr>\n",
       "      <th>50</th>\n",
       "      <td>AC4</td>\n",
       "      <td>after_Read_ISON_Data_P_2</td>\n",
       "    </tr>\n",
       "    <tr>\n",
       "      <th>51</th>\n",
       "      <td>AC5</td>\n",
       "      <td>after_Read_ISON_Data_P_2</td>\n",
       "    </tr>\n",
       "    <tr>\n",
       "      <th>52</th>\n",
       "      <td>AC6</td>\n",
       "      <td>after_Read_ISON_Data_P_2</td>\n",
       "    </tr>\n",
       "    <tr>\n",
       "      <th>53</th>\n",
       "      <td>ADC_DynamicPressure_Pa</td>\n",
       "      <td>after_Read_ISON_Data_P_2</td>\n",
       "    </tr>\n",
       "    <tr>\n",
       "      <th>54</th>\n",
       "      <td>AHRS_graphics</td>\n",
       "      <td>after_Read_ISON_Data_P_2</td>\n",
       "    </tr>\n",
       "    <tr>\n",
       "      <th>55</th>\n",
       "      <td>A_abs</td>\n",
       "      <td>after_Read_ISON_Data_P_2</td>\n",
       "    </tr>\n",
       "    <tr>\n",
       "      <th>56</th>\n",
       "      <td>A_catapult_cut</td>\n",
       "      <td>after_Read_ISON_Data_P_2</td>\n",
       "    </tr>\n",
       "    <tr>\n",
       "      <th>57</th>\n",
       "      <td>A_cut</td>\n",
       "      <td>after_Read_ISON_Data_P_2</td>\n",
       "    </tr>\n",
       "    <tr>\n",
       "      <th>58</th>\n",
       "      <td>A_cut_dr_est</td>\n",
       "      <td>after_Read_ISON_Data_P_2</td>\n",
       "    </tr>\n",
       "    <tr>\n",
       "      <th>59</th>\n",
       "      <td>Acc_lim</td>\n",
       "      <td>after_Read_ISON_Data_P_2</td>\n",
       "    </tr>\n",
       "  </tbody>\n",
       "</table>\n",
       "</div>"
      ],
      "text/plain": [
       "                      name              created_place\n",
       "40     pname_SPAN_bin_data  before_Read_ISON_Data_P_1\n",
       "41                   ppdir  before_Read_ISON_Data_P_1\n",
       "42                 ppindex  before_Read_ISON_Data_P_1\n",
       "43                     r2d  before_Read_ISON_Data_P_1\n",
       "44                     r2m  before_Read_ISON_Data_P_1\n",
       "45              ro_gps_aux  before_Read_ISON_Data_P_1\n",
       "46             unalignment  before_Read_ISON_Data_P_1\n",
       "47                     AC1   after_Read_ISON_Data_P_2\n",
       "48                     AC2   after_Read_ISON_Data_P_2\n",
       "49                     AC3   after_Read_ISON_Data_P_2\n",
       "50                     AC4   after_Read_ISON_Data_P_2\n",
       "51                     AC5   after_Read_ISON_Data_P_2\n",
       "52                     AC6   after_Read_ISON_Data_P_2\n",
       "53  ADC_DynamicPressure_Pa   after_Read_ISON_Data_P_2\n",
       "54           AHRS_graphics   after_Read_ISON_Data_P_2\n",
       "55                   A_abs   after_Read_ISON_Data_P_2\n",
       "56          A_catapult_cut   after_Read_ISON_Data_P_2\n",
       "57                   A_cut   after_Read_ISON_Data_P_2\n",
       "58            A_cut_dr_est   after_Read_ISON_Data_P_2\n",
       "59                 Acc_lim   after_Read_ISON_Data_P_2"
      ]
     },
     "execution_count": 9,
     "metadata": {},
     "output_type": "execute_result"
    }
   ],
   "source": [
    "# Test merging two smallest DataFrames\n",
    "\n",
    "# Merge the two DataFrames on the 'name' column using a left join\n",
    "merged = pd.merge(df_list[4], df_list[5], on='name', how='left')\n",
    "\n",
    "# Create a new column 'created_place' by taking values from 'created_place_y' where available,\n",
    "# otherwise filling with values from 'created_place_x'\n",
    "merged['created_place'] = merged['created_place_y'].combine_first(merged['created_place_x'])\n",
    "\n",
    "# Select only the 'name' and 'created_place' columns for the final result\n",
    "result = merged[['name', 'created_place']]\n",
    "\n",
    "# View result\n",
    "result.sort_values(by=['created_place', 'name'], ascending=[False,True]).head(60).reset_index(drop=True).loc[40:]"
   ]
  },
  {
   "cell_type": "markdown",
   "id": "2eaff27d",
   "metadata": {},
   "source": [
    "Apply merging data as tested before"
   ]
  },
  {
   "cell_type": "code",
   "execution_count": 10,
   "id": "0a09b8ac",
   "metadata": {},
   "outputs": [],
   "source": [
    "# Concatenate all DataFrames and rename columns\n",
    "df_list_copy = copy.deepcopy(df_list)  # Avoid modifying the original df_list\n",
    "\n",
    "if df_list_copy:\n",
    "    df0 = df_list_copy.pop(0)  # Start with the first DataFrame\n",
    "\n",
    "    for df in df_list_copy:\n",
    "        df0 = pd.merge(df0, df, on='name', how='left', suffixes=('_x', '_y'))\n",
    "        df0['created_place'] = df0['created_place_y'].combine_first(df0['created_place_x'])\n",
    "        # Drop the old columns to avoid duplicate columns in the next merge\n",
    "        df0 = df0[['name', 'created_place']]\n",
    "\n",
    "    df_merged = df0\n",
    "else:\n",
    "    df_merged = pd.DataFrame(columns=['name', 'created_place'])"
   ]
  },
  {
   "cell_type": "markdown",
   "id": "e8bf5cb4",
   "metadata": {},
   "source": [
    "Display the final stacked DataFrame with columns: name, subcategory, category."
   ]
  },
  {
   "cell_type": "code",
   "execution_count": 11,
   "id": "e4403eb0",
   "metadata": {},
   "outputs": [
    {
     "data": {
      "text/html": [
       "<div>\n",
       "<style scoped>\n",
       "    .dataframe tbody tr th:only-of-type {\n",
       "        vertical-align: middle;\n",
       "    }\n",
       "\n",
       "    .dataframe tbody tr th {\n",
       "        vertical-align: top;\n",
       "    }\n",
       "\n",
       "    .dataframe thead th {\n",
       "        text-align: right;\n",
       "    }\n",
       "</style>\n",
       "<table border=\"1\" class=\"dataframe\">\n",
       "  <thead>\n",
       "    <tr style=\"text-align: right;\">\n",
       "      <th></th>\n",
       "      <th>name</th>\n",
       "      <th>created_place</th>\n",
       "    </tr>\n",
       "  </thead>\n",
       "  <tbody>\n",
       "    <tr>\n",
       "      <th>0</th>\n",
       "      <td>A</td>\n",
       "      <td>before_start_calculation_cycle_5</td>\n",
       "    </tr>\n",
       "    <tr>\n",
       "      <th>1</th>\n",
       "      <td>AB</td>\n",
       "      <td>before_clear_Prometheus_data_3</td>\n",
       "    </tr>\n",
       "    <tr>\n",
       "      <th>2</th>\n",
       "      <td>AC1</td>\n",
       "      <td>after_Read_ISON_Data_P_2</td>\n",
       "    </tr>\n",
       "    <tr>\n",
       "      <th>3</th>\n",
       "      <td>AC2</td>\n",
       "      <td>after_Read_ISON_Data_P_2</td>\n",
       "    </tr>\n",
       "    <tr>\n",
       "      <th>4</th>\n",
       "      <td>AC3</td>\n",
       "      <td>after_Read_ISON_Data_P_2</td>\n",
       "    </tr>\n",
       "  </tbody>\n",
       "</table>\n",
       "</div>"
      ],
      "text/plain": [
       "  name                     created_place\n",
       "0    A  before_start_calculation_cycle_5\n",
       "1   AB    before_clear_Prometheus_data_3\n",
       "2  AC1          after_Read_ISON_Data_P_2\n",
       "3  AC2          after_Read_ISON_Data_P_2\n",
       "4  AC3          after_Read_ISON_Data_P_2"
      ]
     },
     "execution_count": 11,
     "metadata": {},
     "output_type": "execute_result"
    }
   ],
   "source": [
    "# Display the final DataFrame\n",
    "df_merged.head()"
   ]
  },
  {
   "cell_type": "code",
   "execution_count": 12,
   "id": "1898add9",
   "metadata": {},
   "outputs": [
    {
     "data": {
      "text/plain": [
       "(2021, 2)"
      ]
     },
     "execution_count": 12,
     "metadata": {},
     "output_type": "execute_result"
    }
   ],
   "source": [
    "df_merged.shape"
   ]
  },
  {
   "cell_type": "code",
   "execution_count": 13,
   "id": "298ee66e",
   "metadata": {},
   "outputs": [
    {
     "data": {
      "text/plain": [
       "created_place\n",
       "before_start_calculation_cycle_5    738\n",
       "after_Read_ISON_Data_P_2            523\n",
       "before_simulation_4                 325\n",
       "before_clear_Prometheus_data_3      251\n",
       "after_end_calculation_cycle_6       136\n",
       "before_Read_ISON_Data_P_1            48\n",
       "Name: count, dtype: int64"
      ]
     },
     "execution_count": 13,
     "metadata": {},
     "output_type": "execute_result"
    }
   ],
   "source": [
    "# Distribution of created_place\n",
    "df_merged['created_place'].value_counts() #.head(20)"
   ]
  },
  {
   "cell_type": "markdown",
   "id": "f5203308",
   "metadata": {},
   "source": [
    "Save final data frame"
   ]
  },
  {
   "cell_type": "code",
   "execution_count": 14,
   "id": "5b285583",
   "metadata": {},
   "outputs": [],
   "source": [
    "df_merged.to_csv('data/merge_json.csv', index=False, sep=';')"
   ]
  }
 ],
 "metadata": {
  "kernelspec": {
   "display_name": "Python 3",
   "language": "python",
   "name": "python3"
  },
  "language_info": {
   "codemirror_mode": {
    "name": "ipython",
    "version": 3
   },
   "file_extension": ".py",
   "mimetype": "text/x-python",
   "name": "python",
   "nbconvert_exporter": "python",
   "pygments_lexer": "ipython3",
   "version": "3.13.0rc3"
  }
 },
 "nbformat": 4,
 "nbformat_minor": 5
}
